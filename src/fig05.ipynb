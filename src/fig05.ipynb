{
 "cells": [
  {
   "cell_type": "markdown",
   "metadata": {},
   "source": [
    "# Path likelihood"
   ]
  },
  {
   "cell_type": "code",
   "execution_count": 26,
   "metadata": {},
   "outputs": [
    {
     "data": {
      "text/plain": [
       "baumwelch (generic function with 1 method)"
      ]
     },
     "execution_count": 26,
     "metadata": {},
     "output_type": "execute_result"
    }
   ],
   "source": [
    "using BSON: @save, @load\n",
    "using Statistics\n",
    "using DelimitedFiles\n",
    "using Printf\n",
    "using MDToolbox\n",
    "using StatsBase \n",
    "using LinearAlgebra\n",
    "using Random\n",
    "using Plots\n",
    "\n",
    "include(\"../src/afm.jl\")"
   ]
  },
  {
   "cell_type": "code",
   "execution_count": 27,
   "metadata": {},
   "outputs": [
    {
     "data": {
      "text/plain": [
       "100"
      ]
     },
     "execution_count": 27,
     "metadata": {},
     "output_type": "execute_result"
    }
   ],
   "source": [
    "nq = 576\n",
    "qs = readdlm(\"../data/quaternion/QUATERNION_LIST_$(nq)_Orient\")\n",
    "models = load_model(\"../data/t1r/cluster.pdb\");\n",
    "nmodel = size(models, 1)\n",
    "\n",
    "test_radius = 25\n",
    "pred_radii = [15, 18, 20, 25, 30, 32, 35]\n",
    "sigma_noise = 3\n",
    "sharpness = 10\n",
    "nframe = 100"
   ]
  },
  {
   "cell_type": "code",
   "execution_count": 28,
   "metadata": {},
   "outputs": [],
   "source": [
    "seed = MersenneTwister(334)\n",
    "extracted_qs = sample(seed, 1:576, 50, replace=false);"
   ]
  },
  {
   "cell_type": "code",
   "execution_count": 29,
   "metadata": {},
   "outputs": [
    {
     "data": {
      "text/plain": [
       "240"
      ]
     },
     "execution_count": 29,
     "metadata": {},
     "output_type": "execute_result"
    }
   ],
   "source": [
    "iq_true = extracted_qs[1]"
   ]
  },
  {
   "cell_type": "code",
   "execution_count": 30,
   "metadata": {},
   "outputs": [],
   "source": [
    "@load \"../data/t1r/t1r.bson\" T pi_i"
   ]
  },
  {
   "cell_type": "code",
   "execution_count": 31,
   "metadata": {},
   "outputs": [],
   "source": [
    "@load \"data/test_case/radius_$(test_radius)/sharpness_$(sharpness)/q_$(nq)/iq_$(iq_true)_noise_$(sigma_noise)_nframe_$(nframe).bson\" afms param imodel_array dxdy_array"
   ]
  },
  {
   "cell_type": "code",
   "execution_count": 33,
   "metadata": {},
   "outputs": [],
   "source": [
    "my_nframe = 100\n",
    "\n",
    "logLs = []\n",
    "for pred_radius in pred_radii\n",
    "    @load \"data/result/test_radius_$(test_radius)/pred_radius_$(pred_radius)/sharpness_$(sharpness)/q_$(nq)/iq_$(iq_true)_noise_$(sigma_noise)_nframe_$(nframe).bson\" params r\n",
    "    logL = zeros(Float64, nq)\n",
    "    for iq = 1:nq\n",
    "        ids = []\n",
    "        for imodel = 1:nmodel\n",
    "            push!(ids, [imodel, iq])\n",
    "        end\n",
    "        nid = size(ids, 1)\n",
    "\n",
    "        expanded_T = make_expanded_transition(T, ids, qs)\n",
    "        expanded_pi_i = make_expanded_pi_i(pi_i, ids)\n",
    "        obs_list, log_emission = make_expanded_emission(ids, [r])\n",
    "        estimated_state = viterbi(obs_list[1][1:my_nframe], expanded_T, expanded_pi_i, log_emission)\n",
    "        \n",
    "        logL[iq] = log(expanded_pi_i[estimated_state[1]]) + log_emission[estimated_state[1], 1]\n",
    "        for iframe = 2:my_nframe\n",
    "            i = estimated_state[iframe-1]\n",
    "            j = estimated_state[iframe]\n",
    "            logL[iq] += log(expanded_T[i, j]) + log_emission[j, iframe]\n",
    "        end\n",
    "    end\n",
    "    push!(logLs, logL)\n",
    "end\n",
    "\n",
    "logLs_100frames = deepcopy(logLs);"
   ]
  },
  {
   "cell_type": "code",
   "execution_count": 34,
   "metadata": {},
   "outputs": [],
   "source": [
    "my_nframe = 10\n",
    "\n",
    "logLs = []\n",
    "for pred_radius in pred_radii\n",
    "    @load \"data/result/test_radius_$(test_radius)/pred_radius_$(pred_radius)/sharpness_$(sharpness)/q_$(nq)/iq_$(iq_true)_noise_$(sigma_noise)_nframe_$(nframe).bson\" params r\n",
    "    logL = zeros(Float64, nq)\n",
    "    for iq = 1:nq\n",
    "        ids = []\n",
    "        for imodel = 1:nmodel\n",
    "            push!(ids, [imodel, iq])\n",
    "        end\n",
    "        nid = size(ids, 1)\n",
    "\n",
    "        expanded_T = make_expanded_transition(T, ids, qs)\n",
    "        expanded_pi_i = make_expanded_pi_i(pi_i, ids)\n",
    "        obs_list, log_emission = make_expanded_emission(ids, [r])\n",
    "        estimated_state = viterbi(obs_list[1][1:my_nframe], expanded_T, expanded_pi_i, log_emission)\n",
    "        \n",
    "        logL[iq] = log(expanded_pi_i[estimated_state[1]]) + log_emission[estimated_state[1], 1]\n",
    "        for iframe = 2:my_nframe\n",
    "            i = estimated_state[iframe-1]\n",
    "            j = estimated_state[iframe]\n",
    "            logL[iq] += log(expanded_T[i, j]) + log_emission[j, iframe]\n",
    "        end\n",
    "    end\n",
    "    push!(logLs, logL)\n",
    "end\n",
    "\n",
    "logLs_10frames = deepcopy(logLs);"
   ]
  },
  {
   "cell_type": "code",
   "execution_count": 35,
   "metadata": {},
   "outputs": [],
   "source": [
    "my_nframe = 1\n",
    "\n",
    "logLs = []\n",
    "for pred_radius in pred_radii\n",
    "    @load \"data/result/test_radius_$(test_radius)/pred_radius_$(pred_radius)/sharpness_$(sharpness)/q_$(nq)/iq_$(iq_true)_noise_$(sigma_noise)_nframe_$(nframe).bson\" params r\n",
    "    logL = zeros(Float64, nq)\n",
    "    for iq = 1:nq\n",
    "        ids = []\n",
    "        for imodel = 1:nmodel\n",
    "            push!(ids, [imodel, iq])\n",
    "        end\n",
    "        nid = size(ids, 1)\n",
    "\n",
    "        expanded_T = make_expanded_transition(T, ids, qs)\n",
    "        expanded_pi_i = make_expanded_pi_i(pi_i, ids)\n",
    "        obs_list, log_emission = make_expanded_emission(ids, [r])\n",
    "        estimated_state = viterbi(obs_list[1][1:my_nframe], expanded_T, expanded_pi_i, log_emission)\n",
    "        \n",
    "        logL[iq] = log(expanded_pi_i[estimated_state[1]]) + log_emission[estimated_state[1], 1]\n",
    "        for iframe = 2:my_nframe\n",
    "            i = estimated_state[iframe-1]\n",
    "            j = estimated_state[iframe]\n",
    "            logL[iq] += log(expanded_T[i, j]) + log_emission[j, iframe]\n",
    "        end\n",
    "    end\n",
    "    push!(logLs, logL)\n",
    "end\n",
    "\n",
    "logLs_1frames = deepcopy(logLs);"
   ]
  },
  {
   "cell_type": "code",
   "execution_count": 39,
   "metadata": {},
   "outputs": [],
   "source": [
    "diff_q = []\n",
    "for i in 1:length(pred_radii)\n",
    "    diff_q = []\n",
    "    for iq = 1:nq\n",
    "        push!(diff_q, quate_dist(qs[iq, :], qs[iq_true, :]))\n",
    "    end\n",
    "end"
   ]
  },
  {
   "cell_type": "code",
   "execution_count": 45,
   "metadata": {},
   "outputs": [],
   "source": [
    "for i in 1:length(pred_radii)\n",
    "    p = scatter(logLs_100frames[i], diff_q, \n",
    "        label=nothing, framestyle=:box,\n",
    "        xlabel=\"log likelihood\", ylabel=\"quaternion distance\\nfrom the ground-truth\",\n",
    "        markersize=4, markerstrokewidth=0,\n",
    "        size=(600, 400), dpi=300,\n",
    "        left_margin=Plots.Measures.Length(:mm, 10.0),\n",
    "        right_margin=Plots.Measures.Length(:mm, 10.0),\n",
    "        bottom_margin=Plots.Measures.Length(:mm, 10.0))\n",
    "    savefig(p, \"fig05_$(pred_radii[i])A_100frames.png\")\n",
    "\n",
    "    p = scatter(logLs_10frames[i], diff_q, \n",
    "        label=nothing, framestyle=:box,\n",
    "        xlabel=\"log likelihood\", ylabel=\"quaternion distance\\nfrom the ground-truth\",\n",
    "        markersize=4, markerstrokewidth=0,\n",
    "        size=(600, 400), dpi=300,\n",
    "        left_margin=Plots.Measures.Length(:mm, 10.0),\n",
    "        right_margin=Plots.Measures.Length(:mm, 10.0),\n",
    "        bottom_margin=Plots.Measures.Length(:mm, 10.0))\n",
    "    savefig(p, \"fig05_$(pred_radii[i])A_10frames.png\")\n",
    "\n",
    "    p = scatter(logLs_1frames[i], diff_q, \n",
    "        label=nothing, framestyle=:box,\n",
    "        xlabel=\"log likelihood\", ylabel=\"quaternion distance\\nfrom the ground-truth\",\n",
    "        markersize=4, markerstrokewidth=0,\n",
    "        size=(600, 400), dpi=300,\n",
    "        left_margin=Plots.Measures.Length(:mm, 10.0),\n",
    "        right_margin=Plots.Measures.Length(:mm, 10.0),\n",
    "        bottom_margin=Plots.Measures.Length(:mm, 10.0))\n",
    "    savefig(p, \"fig05_$(pred_radii[i])A_1frames.png\")\n",
    "end"
   ]
  },
  {
   "cell_type": "code",
   "execution_count": null,
   "metadata": {},
   "outputs": [],
   "source": []
  }
 ],
 "metadata": {
  "kernelspec": {
   "display_name": "Julia 1.7.2",
   "language": "julia",
   "name": "julia-1.7"
  },
  "language_info": {
   "file_extension": ".jl",
   "mimetype": "application/julia",
   "name": "julia",
   "version": "1.7.2"
  }
 },
 "nbformat": 4,
 "nbformat_minor": 4
}
