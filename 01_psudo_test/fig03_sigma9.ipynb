{
 "cells": [
  {
   "cell_type": "code",
   "execution_count": 13,
   "metadata": {},
   "outputs": [
    {
     "data": {
      "text/plain": [
       "9"
      ]
     },
     "execution_count": 13,
     "metadata": {},
     "output_type": "execute_result"
    }
   ],
   "source": [
    "using BSON: @save, @load\n",
    "using Statistics\n",
    "using DelimitedFiles\n",
    "using Printf\n",
    "using MDToolbox\n",
    "using StatsBase \n",
    "using LinearAlgebra\n",
    "using Random\n",
    "using Plots\n",
    "\n",
    "include(\"../src/afm.jl\")\n",
    "\n",
    "sigma = 9"
   ]
  },
  {
   "cell_type": "code",
   "execution_count": 14,
   "metadata": {},
   "outputs": [],
   "source": [
    "@load \"data/viterbi/test_radius_$(25)_sigma_$(6)/pred_radius_$(18)/sharpness_$(10)/q_$(576)/T_baumwelch.bson\" T learned_T"
   ]
  },
  {
   "cell_type": "code",
   "execution_count": 15,
   "metadata": {},
   "outputs": [
    {
     "data": {
      "text/plain": [
       "1299×1299 Matrix{Float64}:\n",
       " 7.59856e-52   0.123799      4.15052e-64   …  0.0          0.0\n",
       " 0.251434      0.0           4.41423e-104     0.0          0.0\n",
       " 8.57285e-64   4.48921e-104  0.0              0.0          0.0\n",
       " 9.33462e-107  1.34599e-71   0.281597         0.0          0.0\n",
       " 0.0622796     0.14574       3.15047e-113     0.0          0.0\n",
       " 0.0902288     1.48713e-66   3.19415e-167  …  0.0          0.0\n",
       " 0.276954      0.135381      0.0881408        0.0          0.0\n",
       " 1.16459e-87   8.45508e-48   6.34264e-217     0.0          0.0\n",
       " 2.96009e-62   2.30904e-169  7.83675e-273     0.0          0.0\n",
       " 0.0610261     1.59198e-86   5.65511e-103     0.0          0.0\n",
       " 3.99522e-53   2.65603e-41   0.334617      …  0.0          0.0\n",
       " 6.52448e-129  1.25511e-184  1.6976e-180      0.0          0.0\n",
       " 0.103363      4.29483e-117  3.36234e-137     0.0          0.0\n",
       " ⋮                                         ⋱               \n",
       " 0.0           0.0           0.0              0.0          0.0\n",
       " 0.0           0.0           0.0              0.0          0.0\n",
       " 0.0           0.0           0.0              0.0          0.0\n",
       " 0.0           0.0           0.0           …  0.0          0.0\n",
       " 0.0           0.0           0.0              0.0          0.0\n",
       " 0.0           0.0           0.0              0.0          0.0\n",
       " 0.0           0.0           0.0              0.0          0.0\n",
       " 0.0           0.0           0.0              0.0          0.0\n",
       " 0.0           0.0           0.0           …  0.0          0.0\n",
       " 0.0           0.0           0.0              0.0          0.0\n",
       " 0.0           0.0           0.0              4.11351e-30  0.0\n",
       " 0.0           0.0           0.0              0.0          6.04493e-133"
      ]
     },
     "execution_count": 15,
     "metadata": {},
     "output_type": "execute_result"
    }
   ],
   "source": [
    "learned_T"
   ]
  },
  {
   "cell_type": "code",
   "execution_count": 16,
   "metadata": {},
   "outputs": [],
   "source": [
    "@load \"data/viterbi/test_radius_$(25)_sigma_$(6)/pred_radius_$(18)/sharpness_$(10)/q_$(576)/rmsds_baumwelch.bson\" rmsds_arr"
   ]
  },
  {
   "cell_type": "code",
   "execution_count": 17,
   "metadata": {},
   "outputs": [],
   "source": [
    "#mean(rmsds_arr[extracted_qs, :])"
   ]
  },
  {
   "cell_type": "code",
   "execution_count": 18,
   "metadata": {},
   "outputs": [
    {
     "name": "stdout",
     "output_type": "stream",
     "text": [
      "size(rmsds_arr) = (576, 100)\n",
      "size(rmsds_arr) = (576, 100)\n",
      "size(rmsds_arr) = (576, 100)\n",
      "size(rmsds_arr) = (576, 100)\n",
      "size(rmsds_arr) = (576, 100)\n",
      "size(rmsds_arr) = (576, 100)\n",
      "size(rmsds_arr) = (576, 100)\n"
     ]
    }
   ],
   "source": [
    "using DataFrames\n",
    "\n",
    "nq = 576\n",
    "test_radius = 25\n",
    "pred_radii = [15, 18, 20, 25, 30, 32, 35]\n",
    "#pred_radii_str = [\"1.8\", \"2.0\", \"2.5\", \"3.0\", \"3.2\"]\n",
    "labels = [\"1 frame-by-frame rigid-body fitting\", \"2 Viterbi with the ground-truth T\", \"3 Viterbi with estimated T\", \"4 Viterbi with random matrix\"]\n",
    "sigma_noise = 3\n",
    "sharpness = 10\n",
    "nframe = 100\n",
    "\n",
    "plts = []\n",
    "x_min = 0\n",
    "x_max = 70\n",
    "bin_length = 30\n",
    "font_size = 10\n",
    "width = (x_max - x_min) / bin_length\n",
    "\n",
    "seed = MersenneTwister(334)\n",
    "extracted_qs = sample(seed, 1:576, 50, replace=false)\n",
    "\n",
    "rmsds = []\n",
    "for r in pred_radii\n",
    "    @load \"data/viterbi/test_radius_$(test_radius)_sigma_$(sigma)/pred_radius_$(r)/sharpness_$(sharpness)/q_$(nq)/rmsds_origin.bson\" rmsds_arr\n",
    "    @show size(rmsds_arr)\n",
    "    x = DataFrame(rmsd=rmsds_arr[extracted_qs, :][:] .* 0.1, label= labels[1])\n",
    "    @load \"data/viterbi/test_radius_$(test_radius)_sigma_$(sigma)/pred_radius_$(r)/sharpness_$(sharpness)/q_$(nq)/rmsds_MD.bson\" rmsds_arr\n",
    "    x = vcat(x, DataFrame(rmsd=rmsds_arr[extracted_qs, :][:] .* 0.1, label=labels[2]))\n",
    "    @load \"data/viterbi/test_radius_$(test_radius)_sigma_$(sigma)/pred_radius_$(r)/sharpness_$(sharpness)/q_$(nq)/rmsds_baumwelch.bson\" rmsds_arr\n",
    "    x = vcat(x, DataFrame(rmsd=rmsds_arr[extracted_qs, :][:] .* 0.1, label=labels[3]))\n",
    "    @load \"data/viterbi/test_radius_$(test_radius)_sigma_$(sigma)/pred_radius_$(r)/sharpness_$(sharpness)/q_$(nq)/rmsds_rand.bson\" rmsds_arr\n",
    "    x = vcat(x, DataFrame(rmsd=rmsds_arr[extracted_qs, :][:] .* 0.1, label=labels[4]))\n",
    "    \n",
    "    push!(rmsds, x)\n",
    "end\n",
    "\n",
    "#for i = 2:length(pred_radii)\n",
    "#DataFrame\n",
    "#end"
   ]
  },
  {
   "cell_type": "code",
   "execution_count": 19,
   "metadata": {},
   "outputs": [
    {
     "data": {
      "text/plain": [
       "4993"
      ]
     },
     "execution_count": 19,
     "metadata": {},
     "output_type": "execute_result"
    }
   ],
   "source": [
    "df = rmsds[4]\n",
    "df = filter(:label => ==(\"1 frame-by-frame rigid-body fitting\"), df)\n",
    "sum(df.rmsd .== 0.0)"
   ]
  },
  {
   "cell_type": "code",
   "execution_count": 20,
   "metadata": {},
   "outputs": [
    {
     "data": {
      "text/plain": [
       "4993"
      ]
     },
     "execution_count": 20,
     "metadata": {},
     "output_type": "execute_result"
    }
   ],
   "source": [
    "df = rmsds[4]\n",
    "df = filter(:label => ==(\"2 Viterbi with the ground-truth T\"), df)\n",
    "sum(df.rmsd .== 0.0)"
   ]
  },
  {
   "cell_type": "code",
   "execution_count": 21,
   "metadata": {},
   "outputs": [
    {
     "data": {
      "text/plain": [
       "4993"
      ]
     },
     "execution_count": 21,
     "metadata": {},
     "output_type": "execute_result"
    }
   ],
   "source": [
    "df = rmsds[4]\n",
    "df = filter(:label => ==(\"3 Viterbi with estimated T\"), df)\n",
    "sum(df.rmsd .== 0.0)"
   ]
  },
  {
   "cell_type": "code",
   "execution_count": 22,
   "metadata": {},
   "outputs": [
    {
     "data": {
      "text/plain": [
       "20000-element Vector{String}:\n",
       " \"1 frame-by-frame rigid-body fitting\"\n",
       " \"1 frame-by-frame rigid-body fitting\"\n",
       " \"1 frame-by-frame rigid-body fitting\"\n",
       " \"1 frame-by-frame rigid-body fitting\"\n",
       " \"1 frame-by-frame rigid-body fitting\"\n",
       " \"1 frame-by-frame rigid-body fitting\"\n",
       " \"1 frame-by-frame rigid-body fitting\"\n",
       " \"1 frame-by-frame rigid-body fitting\"\n",
       " \"1 frame-by-frame rigid-body fitting\"\n",
       " \"1 frame-by-frame rigid-body fitting\"\n",
       " \"1 frame-by-frame rigid-body fitting\"\n",
       " \"1 frame-by-frame rigid-body fitting\"\n",
       " \"1 frame-by-frame rigid-body fitting\"\n",
       " ⋮\n",
       " \"4 Viterbi with random matrix\"\n",
       " \"4 Viterbi with random matrix\"\n",
       " \"4 Viterbi with random matrix\"\n",
       " \"4 Viterbi with random matrix\"\n",
       " \"4 Viterbi with random matrix\"\n",
       " \"4 Viterbi with random matrix\"\n",
       " \"4 Viterbi with random matrix\"\n",
       " \"4 Viterbi with random matrix\"\n",
       " \"4 Viterbi with random matrix\"\n",
       " \"4 Viterbi with random matrix\"\n",
       " \"4 Viterbi with random matrix\"\n",
       " \"4 Viterbi with random matrix\""
      ]
     },
     "execution_count": 22,
     "metadata": {},
     "output_type": "execute_result"
    }
   ],
   "source": [
    "rmsds[1].label"
   ]
  },
  {
   "cell_type": "code",
   "execution_count": 23,
   "metadata": {},
   "outputs": [],
   "source": [
    "using StatsPlots\n",
    "ps = []\n",
    "\n",
    "for i in 1:length(pred_radii)\n",
    "    p = @df rmsds[i] groupedhist(:rmsd, group=:label, bar_position=:dodge, \n",
    "    bar_width=0.4, bins=20, framestyle=:box, size=(1100, 250), dpi=300, \n",
    "    xlim=(-0.3, 8), #ylim=(0, 3000), \n",
    "    #labels=map(x -> x[3:end], labels), \n",
    "    label=nothing, \n",
    "    xlabel=\"RMSD [nm]\", ylabel=\"frequency\", \n",
    "    legend=:top, \n",
    "    left_margin=Plots.Measures.Length(:mm, 10.0),\n",
    "    bottom_margin=Plots.Measures.Length(:mm, 10.0))\n",
    "    push!(ps, p)\n",
    "end"
   ]
  },
  {
   "cell_type": "code",
   "execution_count": 24,
   "metadata": {},
   "outputs": [],
   "source": [
    "for i in 1:length(ps)\n",
    "    savefig(ps[i], \"fig03_$(pred_radii[i])A_sigma$(sigma).png\")\n",
    "end"
   ]
  },
  {
   "cell_type": "code",
   "execution_count": null,
   "metadata": {},
   "outputs": [],
   "source": []
  },
  {
   "cell_type": "code",
   "execution_count": null,
   "metadata": {},
   "outputs": [],
   "source": []
  }
 ],
 "metadata": {
  "kernelspec": {
   "display_name": "Julia 1.8.2",
   "language": "julia",
   "name": "julia-1.8.2"
  },
  "language_info": {
   "file_extension": ".jl",
   "mimetype": "application/julia",
   "name": "julia",
   "version": "1.8.2"
  }
 },
 "nbformat": 4,
 "nbformat_minor": 4
}
