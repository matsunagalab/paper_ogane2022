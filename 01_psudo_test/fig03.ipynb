{
 "cells": [
  {
   "cell_type": "code",
   "execution_count": 1,
   "metadata": {},
   "outputs": [
    {
     "data": {
      "text/plain": [
       "baumwelch (generic function with 1 method)"
      ]
     },
     "execution_count": 1,
     "metadata": {},
     "output_type": "execute_result"
    }
   ],
   "source": [
    "using BSON: @save, @load\n",
    "using Statistics\n",
    "using DelimitedFiles\n",
    "using Printf\n",
    "using MDToolbox\n",
    "using StatsBase \n",
    "using LinearAlgebra\n",
    "using Random\n",
    "using Plots\n",
    "\n",
    "include(\"../src/afm.jl\")"
   ]
  },
  {
   "cell_type": "code",
   "execution_count": 2,
   "metadata": {},
   "outputs": [],
   "source": [
    "@load \"data/viterbi/test_radius_$(25)/pred_radius_$(18)/sharpness_$(10)/q_$(576)/T__baumwelch.bson\" T learned_T"
   ]
  },
  {
   "cell_type": "code",
   "execution_count": 3,
   "metadata": {},
   "outputs": [
    {
     "data": {
      "text/plain": [
       "1140×1140 Matrix{Float64}:\n",
       " 0.0           0.0           0.0           …  0.0          0.0\n",
       " 0.0           4.29464e-174  5.25357e-15      0.0          0.0\n",
       " 0.0           1.00505e-15   0.0              0.0          0.0\n",
       " 0.0           1.12672e-20   0.0              0.0          0.0\n",
       " 2.2228e-241   0.0           2.68191e-273     0.0          0.0\n",
       " 0.0159099     8.45664e-115  0.105501      …  0.0          0.0\n",
       " 0.0           3.36869e-96   0.0              0.0          0.0\n",
       " 0.0           0.0           0.0              0.0          0.0\n",
       " 0.0           3.64746e-247  0.0              0.0          0.0\n",
       " 0.0           0.112364      3.27031e-293     0.0          0.0\n",
       " 6.86013e-308  6.92025e-32   2.62114e-52   …  0.0          0.0\n",
       " 1.37677e-318  1.23383e-119  7.05861e-89      0.0          0.0\n",
       " 0.126444      0.0213195     3.92582e-100     0.0          0.0\n",
       " ⋮                                         ⋱               \n",
       " 0.0           0.0           0.0              0.0          0.0\n",
       " 0.0           0.0           0.0              0.0          0.0\n",
       " 0.0           0.0           0.0           …  0.0          0.0\n",
       " 0.0           0.0           0.0              0.0          0.0\n",
       " 0.0           0.0           0.0              0.0          0.0\n",
       " 0.0           0.0           0.0              0.0          0.0\n",
       " 0.0           0.0           0.0              0.0          0.0\n",
       " 0.0           0.0           0.0           …  0.0          0.0\n",
       " 0.0           0.0           0.0              0.0639989    0.820703\n",
       " 0.0           0.0           0.0              0.0340131    0.816014\n",
       " 0.0           0.0           0.0              0.483031     1.27653e-22\n",
       " 0.0           0.0           0.0              1.92823e-23  7.02937e-86"
      ]
     },
     "execution_count": 3,
     "metadata": {},
     "output_type": "execute_result"
    }
   ],
   "source": [
    "learned_T"
   ]
  },
  {
   "cell_type": "code",
   "execution_count": 4,
   "metadata": {},
   "outputs": [],
   "source": [
    "@load \"data/viterbi/test_radius_$(25)/pred_radius_$(18)/sharpness_$(10)/q_$(576)/rmsds_baumwelch.bson\" rmsds_arr"
   ]
  },
  {
   "cell_type": "code",
   "execution_count": 5,
   "metadata": {},
   "outputs": [
    {
     "ename": "LoadError",
     "evalue": "UndefVarError: extracted_qs not defined",
     "output_type": "error",
     "traceback": [
      "UndefVarError: extracted_qs not defined",
      "",
      "Stacktrace:",
      " [1] top-level scope",
      "   @ In[5]:1",
      " [2] eval",
      "   @ ./boot.jl:368 [inlined]",
      " [3] include_string(mapexpr::typeof(REPL.softscope), mod::Module, code::String, filename::String)",
      "   @ Base ./loading.jl:1428"
     ]
    }
   ],
   "source": [
    "mean(rmsds_arr[extracted_qs, :])"
   ]
  },
  {
   "cell_type": "code",
   "execution_count": 6,
   "metadata": {},
   "outputs": [
    {
     "name": "stdout",
     "output_type": "stream",
     "text": [
      "size(rmsds_arr) = (576, 100)\n",
      "size(rmsds_arr) = (576, 100)\n",
      "size(rmsds_arr) = (576, 100)\n",
      "size(rmsds_arr) = (576, 100)\n",
      "size(rmsds_arr) = (576, 100)\n",
      "size(rmsds_arr) = (576, 100)\n",
      "size(rmsds_arr) = (576, 100)\n"
     ]
    }
   ],
   "source": [
    "using DataFrames\n",
    "\n",
    "nq = 576\n",
    "test_radius = 25\n",
    "pred_radii = [15, 18, 20, 25, 30, 32, 35]\n",
    "#pred_radii_str = [\"1.8\", \"2.0\", \"2.5\", \"3.0\", \"3.2\"]\n",
    "labels = [\"1 frame-by-frame rigid-body fitting\", \"2 Viterbi with the ground-truth T\", \"3 Viterbi with estimated T\", \"4 Viterbi with random matrix\"]\n",
    "sigma_noise = 3\n",
    "sharpness = 10\n",
    "nframe = 100\n",
    "\n",
    "plts = []\n",
    "x_min = 0\n",
    "x_max = 70\n",
    "bin_length = 30\n",
    "font_size = 10\n",
    "width = (x_max - x_min) / bin_length\n",
    "\n",
    "seed = MersenneTwister(334)\n",
    "extracted_qs = sample(seed, 1:576, 50, replace=false)\n",
    "\n",
    "rmsds = []\n",
    "for r in pred_radii\n",
    "    @load \"data/viterbi/test_radius_$(test_radius)/pred_radius_$(r)/sharpness_$(sharpness)/q_$(nq)/rmsds_origin.bson\" rmsds_arr\n",
    "    @show size(rmsds_arr)\n",
    "    x = DataFrame(rmsd=rmsds_arr[extracted_qs, :][:] .* 0.1, label= labels[1])\n",
    "    @load \"data/viterbi/test_radius_$(test_radius)/pred_radius_$(r)/sharpness_$(sharpness)/q_$(nq)/rmsds_MD.bson\" rmsds_arr\n",
    "    x = vcat(x, DataFrame(rmsd=rmsds_arr[extracted_qs, :][:] .* 0.1, label=labels[2]))\n",
    "    @load \"data/viterbi/test_radius_$(test_radius)/pred_radius_$(r)/sharpness_$(sharpness)/q_$(nq)/rmsds_baumwelch.bson\" rmsds_arr\n",
    "    x = vcat(x, DataFrame(rmsd=rmsds_arr[extracted_qs, :][:] .* 0.1, label=labels[3]))\n",
    "    @load \"data/viterbi/test_radius_$(test_radius)/pred_radius_$(r)/sharpness_$(sharpness)/q_$(nq)/rmsds_rand.bson\" rmsds_arr\n",
    "    x = vcat(x, DataFrame(rmsd=rmsds_arr[extracted_qs, :][:] .* 0.1, label=labels[4]))\n",
    "    \n",
    "    push!(rmsds, x)\n",
    "end\n",
    "\n",
    "#for i = 2:length(pred_radii)\n",
    "#DataFrame\n",
    "#end"
   ]
  },
  {
   "cell_type": "code",
   "execution_count": 7,
   "metadata": {},
   "outputs": [
    {
     "data": {
      "text/plain": [
       "4991"
      ]
     },
     "execution_count": 7,
     "metadata": {},
     "output_type": "execute_result"
    }
   ],
   "source": [
    "df = rmsds[4]\n",
    "df = filter(:label => ==(\"1 frame-by-frame rigid-body fitting\"), df)\n",
    "sum(df.rmsd .== 0.0)"
   ]
  },
  {
   "cell_type": "code",
   "execution_count": 8,
   "metadata": {},
   "outputs": [
    {
     "data": {
      "text/plain": [
       "4991"
      ]
     },
     "execution_count": 8,
     "metadata": {},
     "output_type": "execute_result"
    }
   ],
   "source": [
    "df = rmsds[4]\n",
    "df = filter(:label => ==(\"2 Viterbi with the ground-truth T\"), df)\n",
    "sum(df.rmsd .== 0.0)"
   ]
  },
  {
   "cell_type": "code",
   "execution_count": 9,
   "metadata": {},
   "outputs": [
    {
     "data": {
      "text/plain": [
       "4991"
      ]
     },
     "execution_count": 9,
     "metadata": {},
     "output_type": "execute_result"
    }
   ],
   "source": [
    "df = rmsds[4]\n",
    "df = filter(:label => ==(\"3 Viterbi with estimated T\"), df)\n",
    "sum(df.rmsd .== 0.0)"
   ]
  },
  {
   "cell_type": "code",
   "execution_count": 10,
   "metadata": {},
   "outputs": [
    {
     "data": {
      "text/plain": [
       "20000-element Vector{String}:\n",
       " \"1 frame-by-frame rigid-body fitting\"\n",
       " \"1 frame-by-frame rigid-body fitting\"\n",
       " \"1 frame-by-frame rigid-body fitting\"\n",
       " \"1 frame-by-frame rigid-body fitting\"\n",
       " \"1 frame-by-frame rigid-body fitting\"\n",
       " \"1 frame-by-frame rigid-body fitting\"\n",
       " \"1 frame-by-frame rigid-body fitting\"\n",
       " \"1 frame-by-frame rigid-body fitting\"\n",
       " \"1 frame-by-frame rigid-body fitting\"\n",
       " \"1 frame-by-frame rigid-body fitting\"\n",
       " \"1 frame-by-frame rigid-body fitting\"\n",
       " \"1 frame-by-frame rigid-body fitting\"\n",
       " \"1 frame-by-frame rigid-body fitting\"\n",
       " ⋮\n",
       " \"4 Viterbi with random matrix\"\n",
       " \"4 Viterbi with random matrix\"\n",
       " \"4 Viterbi with random matrix\"\n",
       " \"4 Viterbi with random matrix\"\n",
       " \"4 Viterbi with random matrix\"\n",
       " \"4 Viterbi with random matrix\"\n",
       " \"4 Viterbi with random matrix\"\n",
       " \"4 Viterbi with random matrix\"\n",
       " \"4 Viterbi with random matrix\"\n",
       " \"4 Viterbi with random matrix\"\n",
       " \"4 Viterbi with random matrix\"\n",
       " \"4 Viterbi with random matrix\""
      ]
     },
     "execution_count": 10,
     "metadata": {},
     "output_type": "execute_result"
    }
   ],
   "source": [
    "rmsds[1].label"
   ]
  },
  {
   "cell_type": "code",
   "execution_count": 11,
   "metadata": {},
   "outputs": [],
   "source": [
    "using StatsPlots\n",
    "ps = []\n",
    "\n",
    "for i in 1:length(pred_radii)\n",
    "    p = @df rmsds[i] groupedhist(:rmsd, group=:label, bar_position=:dodge, \n",
    "    bar_width=0.4, bins=20, framestyle=:box, size=(1100, 250), dpi=300, \n",
    "    xlim=(-0.3, 8), #ylim=(0, 3000), \n",
    "    #labels=map(x -> x[3:end], labels), \n",
    "    label=nothing, \n",
    "    xlabel=\"RMSD [nm]\", ylabel=\"frequency\", \n",
    "    legend=:top, \n",
    "    left_margin=Plots.Measures.Length(:mm, 10.0),\n",
    "    bottom_margin=Plots.Measures.Length(:mm, 10.0))\n",
    "    push!(ps, p)\n",
    "end  "
   ]
  },
  {
   "cell_type": "code",
   "execution_count": 86,
   "metadata": {},
   "outputs": [],
   "source": [
    "for i in 1:length(ps)\n",
    "    savefig(ps[i], \"fig03_$(pred_radii[i])A.png\")\n",
    "end"
   ]
  },
  {
   "cell_type": "code",
   "execution_count": null,
   "metadata": {},
   "outputs": [],
   "source": []
  },
  {
   "cell_type": "code",
   "execution_count": 12,
   "metadata": {},
   "outputs": [],
   "source": [
    "for i in 1:length(ps)\n",
    "    savefig(ps[i], \"fig03_$(pred_radii[i])A_hogehoge.png\")\n",
    "end"
   ]
  },
  {
   "cell_type": "code",
   "execution_count": null,
   "metadata": {},
   "outputs": [],
   "source": []
  }
 ],
 "metadata": {
  "kernelspec": {
   "display_name": "Julia 1.8.2",
   "language": "julia",
   "name": "julia-1.8.2"
  },
  "language_info": {
   "file_extension": ".jl",
   "mimetype": "application/julia",
   "name": "julia",
   "version": "1.8.2"
  }
 },
 "nbformat": 4,
 "nbformat_minor": 4
}
