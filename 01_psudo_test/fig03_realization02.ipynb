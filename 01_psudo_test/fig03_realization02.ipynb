{
 "cells": [
  {
   "cell_type": "code",
   "execution_count": 22,
   "metadata": {},
   "outputs": [
    {
     "data": {
      "text/plain": [
       "baumwelch (generic function with 1 method)"
      ]
     },
     "execution_count": 22,
     "metadata": {},
     "output_type": "execute_result"
    }
   ],
   "source": [
    "using BSON: @save, @load\n",
    "using Statistics\n",
    "using DelimitedFiles\n",
    "using Printf\n",
    "using MDToolbox\n",
    "using StatsBase \n",
    "using LinearAlgebra\n",
    "using Random\n",
    "using Plots\n",
    "\n",
    "include(\"../src/afm.jl\")"
   ]
  },
  {
   "cell_type": "code",
   "execution_count": 23,
   "metadata": {},
   "outputs": [],
   "source": [
    "@load \"data/viterbi/test_radius_$(25)_realization02/pred_radius_$(18)/sharpness_$(10)/q_$(576)/T_baumwelch.bson\" T learned_T"
   ]
  },
  {
   "cell_type": "code",
   "execution_count": 24,
   "metadata": {},
   "outputs": [
    {
     "data": {
      "text/plain": [
       "1246×1246 Matrix{Float64}:\n",
       " 1.99265e-90   5.57675e-204  0.0952888     …  0.0  0.0  0.0\n",
       " 7.20721e-203  0.0           0.0              0.0  0.0  0.0\n",
       " 0.189831      0.0           1.11799e-104     0.0  0.0  0.0\n",
       " 1.46111e-121  0.0           0.212328         0.0  0.0  0.0\n",
       " 0.115764      0.0           5.77343e-117     0.0  0.0  0.0\n",
       " 0.275202      0.156753      0.0           …  0.0  0.0  0.0\n",
       " 1.57465e-174  2.18385e-178  2.48347e-76      0.0  0.0  0.0\n",
       " 0.228643      0.0           1.72622e-49      0.0  0.0  0.0\n",
       " 0.105055      9.9873e-277   0.13305          0.0  0.0  0.0\n",
       " 0.113964      0.0           6.64748e-224     0.0  0.0  0.0\n",
       " 0.104743      7.05115e-306  2.78434e-6    …  0.0  0.0  0.0\n",
       " 1.0406e-82    0.00565664    0.0900361        0.0  0.0  0.0\n",
       " 0.010468      5.33641e-307  0.0513835        0.0  0.0  0.0\n",
       " ⋮                                         ⋱            ⋮\n",
       " 0.0           0.0           0.0              0.0  0.0  0.0\n",
       " 0.0           0.0           0.0           …  0.0  0.0  0.0\n",
       " 0.0           0.0           0.0              0.0  0.0  0.0\n",
       " 0.0           0.0           0.0              0.0  0.0  0.0\n",
       " 0.0           0.0           0.0              0.0  0.0  0.0\n",
       " 0.0           0.0           0.0              0.0  0.0  0.0\n",
       " 0.0           0.0           0.0           …  0.0  0.0  0.0\n",
       " 0.0           0.0           0.0              0.0  0.0  1.73746e-195\n",
       " 0.0           0.0           0.0              0.0  0.0  0.444235\n",
       " 0.0           0.0           0.0              0.0  0.0  0.0\n",
       " 0.0           0.0           0.0              0.0  0.0  0.0\n",
       " 0.0           0.0           0.0           …  0.0  0.0  0.359564"
      ]
     },
     "execution_count": 24,
     "metadata": {},
     "output_type": "execute_result"
    }
   ],
   "source": [
    "learned_T"
   ]
  },
  {
   "cell_type": "code",
   "execution_count": 25,
   "metadata": {},
   "outputs": [],
   "source": [
    "@load \"data/viterbi/test_radius_$(25)_realization02/pred_radius_$(15)/sharpness_$(10)/q_$(576)/rmsds_baumwelch.bson\" rmsds_arr"
   ]
  },
  {
   "cell_type": "code",
   "execution_count": 26,
   "metadata": {},
   "outputs": [],
   "source": [
    "@load \"data/viterbi/test_radius_$(25)_realization02/pred_radius_$(15)/sharpness_$(10)/q_$(576)/rmsds_baumwelch.bson\" rmsds_arr"
   ]
  },
  {
   "cell_type": "code",
   "execution_count": 27,
   "metadata": {},
   "outputs": [
    {
     "data": {
      "text/plain": [
       "576×100 Matrix{Float64}:\n",
       " 53.3527  52.8722  52.594   49.1613  …  50.3333  50.3333  53.8835  52.8722\n",
       "  0.0      0.0      0.0      0.0         0.0      0.0      0.0      0.0\n",
       "  0.0      0.0      0.0      0.0         0.0      0.0      0.0      0.0\n",
       "  0.0      0.0      0.0      0.0         0.0      0.0      0.0      0.0\n",
       "  0.0      0.0      0.0      0.0         0.0      0.0      0.0      0.0\n",
       "  0.0      0.0      0.0      0.0     …   0.0      0.0      0.0      0.0\n",
       "  0.0      0.0      0.0      0.0         0.0      0.0      0.0      0.0\n",
       "  0.0      0.0      0.0      0.0         0.0      0.0      0.0      0.0\n",
       "  0.0      0.0      0.0      0.0         0.0      0.0      0.0      0.0\n",
       "  0.0      0.0      0.0      0.0         0.0      0.0      0.0      0.0\n",
       "  0.0      0.0      0.0      0.0     …   0.0      0.0      0.0      0.0\n",
       " 52.2605  53.0408  52.3335  37.7782     46.8905  49.6567  49.2819  48.6128\n",
       "  0.0      0.0      0.0      0.0         0.0      0.0      0.0      0.0\n",
       "  ⋮                                  ⋱                             \n",
       "  0.0      0.0      0.0      0.0         0.0      0.0      0.0      0.0\n",
       "  0.0      0.0      0.0      0.0     …   0.0      0.0      0.0      0.0\n",
       "  0.0      0.0      0.0      0.0         0.0      0.0      0.0      0.0\n",
       "  0.0      0.0      0.0      0.0         0.0      0.0      0.0      0.0\n",
       "  0.0      0.0      0.0      0.0         0.0      0.0      0.0      0.0\n",
       "  0.0      0.0      0.0      0.0         0.0      0.0      0.0      0.0\n",
       "  0.0      0.0      0.0      0.0     …   0.0      0.0      0.0      0.0\n",
       "  0.0      0.0      0.0      0.0         0.0      0.0      0.0      0.0\n",
       "  0.0      0.0      0.0      0.0         0.0      0.0      0.0      0.0\n",
       "  0.0      0.0      0.0      0.0         0.0      0.0      0.0      0.0\n",
       "  0.0      0.0      0.0      0.0         0.0      0.0      0.0      0.0\n",
       "  0.0      0.0      0.0      0.0     …   0.0      0.0      0.0      0.0"
      ]
     },
     "execution_count": 27,
     "metadata": {},
     "output_type": "execute_result"
    }
   ],
   "source": [
    "rmsds_arr"
   ]
  },
  {
   "cell_type": "code",
   "execution_count": 28,
   "metadata": {},
   "outputs": [
    {
     "name": "stdout",
     "output_type": "stream",
     "text": [
      "size(rmsds_arr) = (576, 100)\n",
      "size(rmsds_arr) = (576, 100)\n",
      "size(rmsds_arr) = (576, 100)\n",
      "size(rmsds_arr) = (576, 100)\n",
      "size(rmsds_arr) = (576, 100)\n",
      "size(rmsds_arr) = (576, 100)\n",
      "size(rmsds_arr) = (576, 100)\n"
     ]
    }
   ],
   "source": [
    "using DataFrames\n",
    "\n",
    "nq = 576\n",
    "test_radius = 25\n",
    "pred_radii = [15, 18, 20, 25, 30, 32, 35]\n",
    "#pred_radii_str = [\"1.8\", \"2.0\", \"2.5\", \"3.0\", \"3.2\"]\n",
    "labels = [\"1 frame-by-frame rigid-body fitting\", \"2 Viterbi with the ground-truth T\", \"3 Viterbi with estimated T\", \"4 Viterbi with random matrix\"]\n",
    "sigma_noise = 3\n",
    "sharpness = 10\n",
    "nframe = 100\n",
    "\n",
    "plts = []\n",
    "x_min = 0\n",
    "x_max = 70\n",
    "bin_length = 30\n",
    "font_size = 10\n",
    "width = (x_max - x_min) / bin_length\n",
    "\n",
    "seed = MersenneTwister(334)\n",
    "extracted_qs = sample(seed, 1:576, 50, replace=false)\n",
    "\n",
    "rmsds = []\n",
    "for r in pred_radii\n",
    "    @load \"data/viterbi/test_radius_$(test_radius)_realization02/pred_radius_$(r)/sharpness_$(sharpness)/q_$(nq)/rmsds_origin.bson\" rmsds_arr\n",
    "    @show size(rmsds_arr)\n",
    "    x = DataFrame(rmsd=rmsds_arr[extracted_qs, :][:] .* 0.1, label= labels[1])\n",
    "    @load \"data/viterbi/test_radius_$(test_radius)_realization02/pred_radius_$(r)/sharpness_$(sharpness)/q_$(nq)/rmsds_MD.bson\" rmsds_arr\n",
    "    x = vcat(x, DataFrame(rmsd=rmsds_arr[extracted_qs, :][:] .* 0.1, label=labels[2]))\n",
    "    @load \"data/viterbi/test_radius_$(test_radius)_realization02/pred_radius_$(r)/sharpness_$(sharpness)/q_$(nq)/rmsds_baumwelch.bson\" rmsds_arr\n",
    "    x = vcat(x, DataFrame(rmsd=rmsds_arr[extracted_qs, :][:] .* 0.1, label=labels[3]))\n",
    "    @load \"data/viterbi/test_radius_$(test_radius)_realization02/pred_radius_$(r)/sharpness_$(sharpness)/q_$(nq)/rmsds_rand.bson\" rmsds_arr\n",
    "    x = vcat(x, DataFrame(rmsd=rmsds_arr[extracted_qs, :][:] .* 0.1, label=labels[4]))\n",
    "    \n",
    "    push!(rmsds, x)\n",
    "end\n",
    "\n",
    "#for i = 2:length(pred_radii)\n",
    "#DataFrame\n",
    "#end"
   ]
  },
  {
   "cell_type": "code",
   "execution_count": 29,
   "metadata": {},
   "outputs": [
    {
     "data": {
      "text/plain": [
       "4997"
      ]
     },
     "execution_count": 29,
     "metadata": {},
     "output_type": "execute_result"
    }
   ],
   "source": [
    "df = rmsds[4]\n",
    "df = filter(:label => ==(\"1 frame-by-frame rigid-body fitting\"), df)\n",
    "sum(df.rmsd .== 0.0)"
   ]
  },
  {
   "cell_type": "code",
   "execution_count": 30,
   "metadata": {},
   "outputs": [
    {
     "data": {
      "text/plain": [
       "4997"
      ]
     },
     "execution_count": 30,
     "metadata": {},
     "output_type": "execute_result"
    }
   ],
   "source": [
    "df = rmsds[4]\n",
    "df = filter(:label => ==(\"2 Viterbi with the ground-truth T\"), df)\n",
    "sum(df.rmsd .== 0.0)"
   ]
  },
  {
   "cell_type": "code",
   "execution_count": 31,
   "metadata": {},
   "outputs": [
    {
     "data": {
      "text/plain": [
       "4997"
      ]
     },
     "execution_count": 31,
     "metadata": {},
     "output_type": "execute_result"
    }
   ],
   "source": [
    "df = rmsds[4]\n",
    "df = filter(:label => ==(\"3 Viterbi with estimated T\"), df)\n",
    "sum(df.rmsd .== 0.0)"
   ]
  },
  {
   "cell_type": "code",
   "execution_count": 32,
   "metadata": {},
   "outputs": [
    {
     "data": {
      "text/plain": [
       "20000-element Vector{String}:\n",
       " \"1 frame-by-frame rigid-body fitting\"\n",
       " \"1 frame-by-frame rigid-body fitting\"\n",
       " \"1 frame-by-frame rigid-body fitting\"\n",
       " \"1 frame-by-frame rigid-body fitting\"\n",
       " \"1 frame-by-frame rigid-body fitting\"\n",
       " \"1 frame-by-frame rigid-body fitting\"\n",
       " \"1 frame-by-frame rigid-body fitting\"\n",
       " \"1 frame-by-frame rigid-body fitting\"\n",
       " \"1 frame-by-frame rigid-body fitting\"\n",
       " \"1 frame-by-frame rigid-body fitting\"\n",
       " \"1 frame-by-frame rigid-body fitting\"\n",
       " \"1 frame-by-frame rigid-body fitting\"\n",
       " \"1 frame-by-frame rigid-body fitting\"\n",
       " ⋮\n",
       " \"4 Viterbi with random matrix\"\n",
       " \"4 Viterbi with random matrix\"\n",
       " \"4 Viterbi with random matrix\"\n",
       " \"4 Viterbi with random matrix\"\n",
       " \"4 Viterbi with random matrix\"\n",
       " \"4 Viterbi with random matrix\"\n",
       " \"4 Viterbi with random matrix\"\n",
       " \"4 Viterbi with random matrix\"\n",
       " \"4 Viterbi with random matrix\"\n",
       " \"4 Viterbi with random matrix\"\n",
       " \"4 Viterbi with random matrix\"\n",
       " \"4 Viterbi with random matrix\""
      ]
     },
     "execution_count": 32,
     "metadata": {},
     "output_type": "execute_result"
    }
   ],
   "source": [
    "rmsds[1].label"
   ]
  },
  {
   "cell_type": "code",
   "execution_count": 33,
   "metadata": {},
   "outputs": [],
   "source": [
    "using StatsPlots\n",
    "ps = []\n",
    "\n",
    "for i in 1:length(pred_radii)\n",
    "    p = @df rmsds[i] groupedhist(:rmsd, group=:label, bar_position=:dodge, \n",
    "    bar_width=0.4, bins=20, framestyle=:box, size=(1100, 250), dpi=300, \n",
    "    xlim=(-0.3, 8), #ylim=(0, 3000), \n",
    "    #labels=map(x -> x[3:end], labels), \n",
    "    label=nothing, \n",
    "    xlabel=\"RMSD [nm]\", ylabel=\"frequency\", \n",
    "    legend=:top, \n",
    "    left_margin=Plots.Measures.Length(:mm, 10.0),\n",
    "    bottom_margin=Plots.Measures.Length(:mm, 10.0))\n",
    "    push!(ps, p)\n",
    "end"
   ]
  },
  {
   "cell_type": "code",
   "execution_count": 34,
   "metadata": {},
   "outputs": [],
   "source": [
    "for i in 1:length(ps)\n",
    "    savefig(ps[i], \"fig03_$(pred_radii[i])A_realization02.png\")\n",
    "end"
   ]
  },
  {
   "cell_type": "code",
   "execution_count": null,
   "metadata": {},
   "outputs": [],
   "source": []
  },
  {
   "cell_type": "code",
   "execution_count": null,
   "metadata": {},
   "outputs": [],
   "source": []
  }
 ],
 "metadata": {
  "kernelspec": {
   "display_name": "Julia 1.8.2",
   "language": "julia",
   "name": "julia-1.8.2"
  },
  "language_info": {
   "file_extension": ".jl",
   "mimetype": "application/julia",
   "name": "julia",
   "version": "1.8.2"
  }
 },
 "nbformat": 4,
 "nbformat_minor": 4
}
